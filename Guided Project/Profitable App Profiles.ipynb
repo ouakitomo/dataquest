{
 "cells": [
  {
   "cell_type": "markdown",
   "metadata": {},
   "source": [
    "# First Guided Project\n",
    "## Profitable App Profiles for the App Store and Google Play Markets\n",
    "\n",
    "We'll be looking a dataset of apps from App Store and Google Play and analyze the data to build an attractable market for users"
   ]
  },
  {
   "cell_type": "code",
   "execution_count": 1,
   "metadata": {
    "collapsed": false
   },
   "outputs": [],
   "source": [
    "# Open file and save it to lists\n",
    "from csv import reader\n",
    "\n",
    "opened_file_1 = open('AppleStore.csv', encoding='utf8')\n",
    "opened_file_2 = open('googleplaystore.csv', encoding='utf8')\n",
    "read_file_1 = reader(opened_file_1)\n",
    "read_file_2 = reader(opened_file_2)\n",
    "app1 = list(read_file_1)\n",
    "app2 = list(read_file_2)\n",
    "ios_header, ios = app1[0], app1[1:]\n",
    "android_header, android = app2[0], app2[1:]"
   ]
  },
  {
   "cell_type": "code",
   "execution_count": 2,
   "metadata": {
    "collapsed": false
   },
   "outputs": [
    {
     "data": {
      "text/plain": [
       "[['284882215',\n",
       "  'Facebook',\n",
       "  '389879808',\n",
       "  'USD',\n",
       "  '0.0',\n",
       "  '2974676',\n",
       "  '212',\n",
       "  '3.5',\n",
       "  '3.5',\n",
       "  '95.0',\n",
       "  '4+',\n",
       "  'Social Networking',\n",
       "  '37',\n",
       "  '1',\n",
       "  '29',\n",
       "  '1'],\n",
       " ['389801252',\n",
       "  'Instagram',\n",
       "  '113954816',\n",
       "  'USD',\n",
       "  '0.0',\n",
       "  '2161558',\n",
       "  '1289',\n",
       "  '4.5',\n",
       "  '4.0',\n",
       "  '10.23',\n",
       "  '12+',\n",
       "  'Photo & Video',\n",
       "  '37',\n",
       "  '0',\n",
       "  '29',\n",
       "  '1']]"
      ]
     },
     "execution_count": 2,
     "metadata": {},
     "output_type": "execute_result"
    }
   ],
   "source": [
    "# Let's see the header and sample data of App Store\n",
    "ios[:2]"
   ]
  },
  {
   "cell_type": "code",
   "execution_count": 3,
   "metadata": {
    "collapsed": false
   },
   "outputs": [
    {
     "data": {
      "text/plain": [
       "[['Photo Editor & Candy Camera & Grid & ScrapBook',\n",
       "  'ART_AND_DESIGN',\n",
       "  '4.1',\n",
       "  '159',\n",
       "  '19M',\n",
       "  '10,000+',\n",
       "  'Free',\n",
       "  '0',\n",
       "  'Everyone',\n",
       "  'Art & Design',\n",
       "  'January 7, 2018',\n",
       "  '1.0.0',\n",
       "  '4.0.3 and up'],\n",
       " ['Coloring book moana',\n",
       "  'ART_AND_DESIGN',\n",
       "  '3.9',\n",
       "  '967',\n",
       "  '14M',\n",
       "  '500,000+',\n",
       "  'Free',\n",
       "  '0',\n",
       "  'Everyone',\n",
       "  'Art & Design;Pretend Play',\n",
       "  'January 15, 2018',\n",
       "  '2.0.0',\n",
       "  '4.0.3 and up']]"
      ]
     },
     "execution_count": 3,
     "metadata": {},
     "output_type": "execute_result"
    }
   ],
   "source": [
    "# Let's see the header and sample data of Google Play\n",
    "android[:2]"
   ]
  },
  {
   "cell_type": "code",
   "execution_count": 4,
   "metadata": {
    "collapsed": false
   },
   "outputs": [],
   "source": [
    "# Using the function provided by lesson\n",
    "def explore_data(dataset, start, end, rows_and_columns=False):\n",
    "    dataset_slice = dataset[start:end]    \n",
    "    for row in dataset_slice:\n",
    "        print(row)\n",
    "        print('\\n') # adds a new (empty) line after each row\n",
    "\n",
    "    if rows_and_columns:\n",
    "        print('Number of rows:', len(dataset))\n",
    "        print('Number of columns:', len(dataset[0]))"
   ]
  },
  {
   "cell_type": "code",
   "execution_count": 5,
   "metadata": {
    "collapsed": false
   },
   "outputs": [
    {
     "name": "stdout",
     "output_type": "stream",
     "text": [
      "['id', 'track_name', 'size_bytes', 'currency', 'price', 'rating_count_tot', 'rating_count_ver', 'user_rating', 'user_rating_ver', 'ver', 'cont_rating', 'prime_genre', 'sup_devices.num', 'ipadSc_urls.num', 'lang.num', 'vpp_lic']\n",
      "\n",
      "\n",
      "['284882215', 'Facebook', '389879808', 'USD', '0.0', '2974676', '212', '3.5', '3.5', '95.0', '4+', 'Social Networking', '37', '1', '29', '1']\n",
      "\n",
      "\n",
      "['389801252', 'Instagram', '113954816', 'USD', '0.0', '2161558', '1289', '4.5', '4.0', '10.23', '12+', 'Photo & Video', '37', '0', '29', '1']\n",
      "\n",
      "\n",
      "['529479190', 'Clash of Clans', '116476928', 'USD', '0.0', '2130805', '579', '4.5', '4.5', '9.24.12', '9+', 'Games', '38', '5', '18', '1']\n",
      "\n",
      "\n",
      "Number of rows: 7197\n",
      "Number of columns: 16\n"
     ]
    }
   ],
   "source": [
    "print(ios_header)\n",
    "print(\"\\n\")\n",
    "explore_data(ios, 0, 3, True)"
   ]
  },
  {
   "cell_type": "code",
   "execution_count": 6,
   "metadata": {
    "collapsed": false,
    "scrolled": true
   },
   "outputs": [
    {
     "name": "stdout",
     "output_type": "stream",
     "text": [
      "['App', 'Category', 'Rating', 'Reviews', 'Size', 'Installs', 'Type', 'Price', 'Content Rating', 'Genres', 'Last Updated', 'Current Ver', 'Android Ver']\n",
      "\n",
      "\n",
      "['Photo Editor & Candy Camera & Grid & ScrapBook', 'ART_AND_DESIGN', '4.1', '159', '19M', '10,000+', 'Free', '0', 'Everyone', 'Art & Design', 'January 7, 2018', '1.0.0', '4.0.3 and up']\n",
      "\n",
      "\n",
      "['Coloring book moana', 'ART_AND_DESIGN', '3.9', '967', '14M', '500,000+', 'Free', '0', 'Everyone', 'Art & Design;Pretend Play', 'January 15, 2018', '2.0.0', '4.0.3 and up']\n",
      "\n",
      "\n",
      "['U Launcher Lite – FREE Live Cool Themes, Hide Apps', 'ART_AND_DESIGN', '4.7', '87510', '8.7M', '5,000,000+', 'Free', '0', 'Everyone', 'Art & Design', 'August 1, 2018', '1.2.4', '4.0.3 and up']\n",
      "\n",
      "\n",
      "Number of rows: 10841\n",
      "Number of columns: 13\n"
     ]
    }
   ],
   "source": [
    "print(android_header)\n",
    "print(\"\\n\")\n",
    "explore_data(android, 0, 3, True)"
   ]
  },
  {
   "cell_type": "markdown",
   "metadata": {},
   "source": [
    "## Data Cleaning\n",
    "\n",
    "We'll be removing non-English apps and apps that aren't free. Look for wrong and duplicate data"
   ]
  },
  {
   "cell_type": "code",
   "execution_count": 7,
   "metadata": {
    "collapsed": false
   },
   "outputs": [],
   "source": [
    "# Make a function to return what index has discrepancy length from header\n",
    "def indexes_discrepancy(dataset, header=False):\n",
    "    data_only = dataset[1:] if header else dataset\n",
    "    get_header_length = len(dataset[0]) #assuming record 1 has the same length as header\n",
    "    list_index_discrepancy = []\n",
    "    for i in range(len(data_only)):\n",
    "        length = len(data_only[i])\n",
    "        if get_header_length != length:\n",
    "            list_index_discrepancy.append(i)\n",
    "    \n",
    "    print(len(list_index_discrepancy), list_index_discrepancy)"
   ]
  },
  {
   "cell_type": "code",
   "execution_count": 8,
   "metadata": {
    "collapsed": false
   },
   "outputs": [
    {
     "name": "stdout",
     "output_type": "stream",
     "text": [
      "1 [10472]\n"
     ]
    }
   ],
   "source": [
    "# Check Google Play\n",
    "indexes_discrepancy(android)"
   ]
  },
  {
   "cell_type": "code",
   "execution_count": 9,
   "metadata": {
    "collapsed": false,
    "scrolled": true
   },
   "outputs": [
    {
     "data": {
      "text/plain": [
       "['Life Made WI-Fi Touchscreen Photo Frame',\n",
       " '1.9',\n",
       " '19',\n",
       " '3.0M',\n",
       " '1,000+',\n",
       " 'Free',\n",
       " '0',\n",
       " 'Everyone',\n",
       " '',\n",
       " 'February 11, 2018',\n",
       " '1.0.19',\n",
       " '4.0 and up']"
      ]
     },
     "execution_count": 9,
     "metadata": {},
     "output_type": "execute_result"
    }
   ],
   "source": [
    "# Let's view the data\n",
    "android[10472]"
   ]
  },
  {
   "cell_type": "code",
   "execution_count": 10,
   "metadata": {
    "collapsed": false
   },
   "outputs": [
    {
     "name": "stdout",
     "output_type": "stream",
     "text": [
      "10841\n",
      "10840\n"
     ]
    }
   ],
   "source": [
    "# Need to delete 10472 to continue data cleaning\n",
    "print(len(android))\n",
    "del android[10472]\n",
    "print(len(android))"
   ]
  },
  {
   "cell_type": "code",
   "execution_count": 11,
   "metadata": {
    "collapsed": false
   },
   "outputs": [
    {
     "name": "stdout",
     "output_type": "stream",
     "text": [
      "0 []\n"
     ]
    }
   ],
   "source": [
    "# Check App Store\n",
    "indexes_discrepancy(app1, True) #including header"
   ]
  },
  {
   "cell_type": "markdown",
   "metadata": {},
   "source": [
    "# Trying to put it in a dictionary\n",
    "def duplicate_name2(dataset, indexcol):\n",
    "    list_duplicate = {}\n",
    "    for i in range(len(dataset)):\n",
    "        name = dataset[i][indexcol]\n",
    "        if name not in list_duplicate:\n",
    "            list_duplicate[name] = [i]\n",
    "        else:\n",
    "            list_duplicate[name].append(i)\n",
    "    \n",
    "    # Trying to delete all non-duplicate records\n",
    "    final_list = list_duplicate.copy()\n",
    "    for k, v in list_duplicate.items():\n",
    "        if len(v) == 1:\n",
    "            del final_list[k]\n",
    "        \n",
    "    print(\"Number of duplicate names:\", len(final_list.keys()))\n",
    "    return final_list\n",
    "\n",
    "a = duplicate_name2(android[1:],0)\n",
    "print(a)"
   ]
  },
  {
   "cell_type": "code",
   "execution_count": 12,
   "metadata": {
    "collapsed": false
   },
   "outputs": [],
   "source": [
    "# Make a function to return duplicate name from a specific column\n",
    "def duplicate_name(dataset, indexcol):\n",
    "    # Assuming dataset has no header row\n",
    "    duplicate_name = []\n",
    "    unique_name = []\n",
    "    list_index_discrepancy = []\n",
    "    for i in range(len(dataset)):\n",
    "        name = dataset[i][indexcol]\n",
    "        if name in unique_name:\n",
    "            duplicate_name.append(name)\n",
    "            list_index_discrepancy.append(i)\n",
    "        else:\n",
    "            unique_name.append(name)\n",
    "        \n",
    "    print(\"Number of duplicate rows:\", len(list_index_discrepancy))\n",
    "    print(\"\\n Examples of duplicate rows:\", list_index_discrepancy[:15])\n",
    "    print(\"\\n Number of duplicate names:\", len(duplicate_name))\n",
    "    print(\"\\n Examples of duplicate names:\", duplicate_name[:15])"
   ]
  },
  {
   "cell_type": "code",
   "execution_count": 13,
   "metadata": {
    "collapsed": false
   },
   "outputs": [
    {
     "name": "stdout",
     "output_type": "stream",
     "text": [
      "Number of duplicate rows: 1181\n",
      "\n",
      " Examples of duplicate rows: [229, 236, 239, 256, 261, 265, 266, 267, 268, 269, 270, 271, 272, 273, 274]\n",
      "\n",
      " Number of duplicate names: 1181\n",
      "\n",
      " Examples of duplicate names: ['Quick PDF Scanner + OCR FREE', 'Box', 'Google My Business', 'ZOOM Cloud Meetings', 'join.me - Simple Meetings', 'Box', 'Zenefits', 'Google Ads', 'Google My Business', 'Slack', 'FreshBooks Classic', 'Insightly CRM', 'QuickBooks Accounting: Invoicing & Expenses', 'HipChat - Chat Built for Teams', 'Xero Accounting Software']\n"
     ]
    }
   ],
   "source": [
    "duplicate_name(android, 0) # zero is the index column for name"
   ]
  },
  {
   "cell_type": "code",
   "execution_count": 14,
   "metadata": {
    "collapsed": false
   },
   "outputs": [
    {
     "data": {
      "text/plain": [
       "9659"
      ]
     },
     "execution_count": 14,
     "metadata": {},
     "output_type": "execute_result"
    }
   ],
   "source": [
    "# Create dictionary with highest number of review overriding duplication \n",
    "review_max = {}\n",
    "for row in android:\n",
    "    name = row[0]\n",
    "    n_reviews = float(row[3])\n",
    "    if name in review_max and review_max[name] < n_reviews:\n",
    "        review_max[name] = n_reviews\n",
    "    if name not in review_max:\n",
    "        review_max[name] = n_reviews\n",
    "        \n",
    "len(review_max)"
   ]
  },
  {
   "cell_type": "code",
   "execution_count": 15,
   "metadata": {
    "collapsed": false
   },
   "outputs": [
    {
     "data": {
      "text/plain": [
       "9659"
      ]
     },
     "execution_count": 15,
     "metadata": {},
     "output_type": "execute_result"
    }
   ],
   "source": [
    "# Making a clean list and store app names\n",
    "android_clean = []\n",
    "already_added = []\n",
    "for row in android:\n",
    "    name = row[0]\n",
    "    n_reviews = float(row[3])\n",
    "    if (review_max[name] == n_reviews) and (name not in already_added):\n",
    "        android_clean.append(row)\n",
    "        already_added.append(name)\n",
    "    \n",
    "len(android_clean)"
   ]
  },
  {
   "cell_type": "code",
   "execution_count": 16,
   "metadata": {
    "collapsed": false
   },
   "outputs": [
    {
     "name": "stdout",
     "output_type": "stream",
     "text": [
      "爱奇艺PPS -《欢乐颂2》电视剧热播\n",
      "【脱出ゲーム】絶対に最後までプレイしないで 〜謎解き＆ブロックパズル〜\n",
      "\n",
      "\n",
      "中国語 AQリスニング\n",
      "لعبة تقدر تربح DZ\n"
     ]
    }
   ],
   "source": [
    "# Exploring data has non-English and should be remove for this project\n",
    "print(ios[813][1])\n",
    "print(ios[6731][1])\n",
    "print(\"\\n\")\n",
    "print(android_clean[4412][0])\n",
    "print(android_clean[7940][0])"
   ]
  },
  {
   "cell_type": "code",
   "execution_count": 17,
   "metadata": {
    "collapsed": false
   },
   "outputs": [],
   "source": [
    "def check_is_english(string):\n",
    "    counter = 1 # if counter reaches to more than 3 then it's not english anymore\n",
    "    upto_character = 3\n",
    "    for character in string:\n",
    "        if ord(character) > 127 and counter > upto_character:\n",
    "            return False\n",
    "        elif ord(character) > 127:\n",
    "            counter += 1\n",
    "        #else: # what if emoji in different position\n",
    "        #    counter = 1 # reseting the counter\n",
    "    return True"
   ]
  },
  {
   "cell_type": "code",
   "execution_count": 18,
   "metadata": {
    "collapsed": false
   },
   "outputs": [
    {
     "name": "stdout",
     "output_type": "stream",
     "text": [
      "True\n",
      "False\n",
      "True\n",
      "True\n",
      "True\n",
      "False\n"
     ]
    }
   ],
   "source": [
    "# Let's check the function of above is working\n",
    "print(check_is_english('Instagram'))\n",
    "print(check_is_english('爱奇艺PPS -《欢乐颂2》电视剧热播'))\n",
    "print(check_is_english('Docs To Go™ Free Office Suite'))\n",
    "print(check_is_english('Instachat 😜'))\n",
    "print(check_is_english('Instachat 😜😜😜'))\n",
    "print(check_is_english('Instachat 😜😜😜Instachat 😜😜😜™'))"
   ]
  },
  {
   "cell_type": "markdown",
   "metadata": {},
   "source": [
    "However, strings like 'Docs To Go™ Free Office Suite' and 'Instachat 😜' are English apps that should not be removed. We'll make a rule that app name that has more than three characters of outside the Ascii range will be removed. If not, then English apps with up to three emoji or other special characters will still be labeled as English."
   ]
  },
  {
   "cell_type": "code",
   "execution_count": 19,
   "metadata": {
    "collapsed": true
   },
   "outputs": [],
   "source": [
    "# Make a new list and insert if app is english\n",
    "def filter_english_app(dataset, indexcol):\n",
    "    filter_clean = []\n",
    "    for row in dataset:\n",
    "        name = row[indexcol]\n",
    "        if check_is_english(name):\n",
    "            filter_clean.append(row)\n",
    "        \n",
    "    return filter_clean"
   ]
  },
  {
   "cell_type": "code",
   "execution_count": 20,
   "metadata": {
    "collapsed": false
   },
   "outputs": [
    {
     "name": "stdout",
     "output_type": "stream",
     "text": [
      "9659 old android dataset\n",
      "7197 old ios dataset\n",
      "9614 new android dataset\n",
      "6183 new ios dataset\n"
     ]
    }
   ],
   "source": [
    "# Check and clean dataset\n",
    "print(len(android_clean), \"old android dataset\")\n",
    "print(len(ios), \"old ios dataset\")\n",
    "android_eng_clean = filter_english_app(android_clean, 0)\n",
    "ios_eng_clean = filter_english_app(ios, 1)\n",
    "print(len(android_eng_clean), \"new android dataset\")\n",
    "print(len(ios_eng_clean), \"new ios dataset\")"
   ]
  },
  {
   "cell_type": "code",
   "execution_count": 21,
   "metadata": {
    "collapsed": false,
    "scrolled": true
   },
   "outputs": [
    {
     "name": "stdout",
     "output_type": "stream",
     "text": [
      "['id', 'track_name', 'size_bytes', 'currency', 'price', 'rating_count_tot', 'rating_count_ver', 'user_rating', 'user_rating_ver', 'ver', 'cont_rating', 'prime_genre', 'sup_devices.num', 'ipadSc_urls.num', 'lang.num', 'vpp_lic']\n",
      "\n",
      "\n",
      "['App', 'Category', 'Rating', 'Reviews', 'Size', 'Installs', 'Type', 'Price', 'Content Rating', 'Genres', 'Last Updated', 'Current Ver', 'Android Ver']\n"
     ]
    }
   ],
   "source": [
    "# Let's check the header of ios and android to identify the price column\n",
    "print(ios_header)\n",
    "print(\"\\n\")\n",
    "print(android_header)"
   ]
  },
  {
   "cell_type": "markdown",
   "metadata": {},
   "source": [
    "The index of price in ios is 4 and android is 7"
   ]
  },
  {
   "cell_type": "code",
   "execution_count": 22,
   "metadata": {
    "collapsed": false
   },
   "outputs": [],
   "source": [
    "# Make a function to check if it's free \n",
    "def check_free_apps(dataset, indexcol):\n",
    "    free_android = \"0\"\n",
    "    free_ios = \"0.0\"\n",
    "    free_app_list = []\n",
    "    for row in dataset:\n",
    "        name = row[indexcol]\n",
    "        if name == free_android or name == free_ios:\n",
    "            free_app_list.append(row)\n",
    "    \n",
    "    return free_app_list"
   ]
  },
  {
   "cell_type": "code",
   "execution_count": 23,
   "metadata": {
    "collapsed": false
   },
   "outputs": [
    {
     "name": "stdout",
     "output_type": "stream",
     "text": [
      "9614 old android dataset\n",
      "6183 old ios dataset\n",
      "8864 new android dataset\n",
      "3222 new ios dataset\n"
     ]
    }
   ],
   "source": [
    "# Check and clean dataset\n",
    "print(len(android_eng_clean), \"old android dataset\")\n",
    "print(len(ios_eng_clean), \"old ios dataset\")\n",
    "android_free_eng_clean = check_free_apps(android_eng_clean, 7)\n",
    "ios_free_eng_clean = check_free_apps(ios_eng_clean, 4)\n",
    "print(len(android_free_eng_clean), \"new android dataset\")\n",
    "print(len(ios_free_eng_clean), \"new ios dataset\")"
   ]
  },
  {
   "cell_type": "code",
   "execution_count": 24,
   "metadata": {
    "collapsed": false
   },
   "outputs": [
    {
     "name": "stdout",
     "output_type": "stream",
     "text": [
      "['id', 'track_name', 'size_bytes', 'currency', 'price', 'rating_count_tot', 'rating_count_ver', 'user_rating', 'user_rating_ver', 'ver', 'cont_rating', 'prime_genre', 'sup_devices.num', 'ipadSc_urls.num', 'lang.num', 'vpp_lic']\n",
      "\n",
      "\n",
      "['App', 'Category', 'Rating', 'Reviews', 'Size', 'Installs', 'Type', 'Price', 'Content Rating', 'Genres', 'Last Updated', 'Current Ver', 'Android Ver']\n"
     ]
    }
   ],
   "source": [
    "# Let's check the header of ios and android to identify the genre column\n",
    "print(ios_header)\n",
    "print(\"\\n\")\n",
    "print(android_header)"
   ]
  },
  {
   "cell_type": "markdown",
   "metadata": {},
   "source": [
    "The index of genre in ios is 11 and android is 1"
   ]
  },
  {
   "cell_type": "code",
   "execution_count": 25,
   "metadata": {
    "collapsed": true
   },
   "outputs": [],
   "source": [
    "# Make a frequency tables to view the most common genres\n",
    "def freq_table(dataset, indexcol):\n",
    "    frequency_table = {}\n",
    "    for row in dataset:\n",
    "        name = row[indexcol]\n",
    "        if name in frequency_table:\n",
    "            frequency_table[name] += 1\n",
    "        else:\n",
    "            frequency_table[name] = 1\n",
    "    \n",
    "    return frequency_table"
   ]
  },
  {
   "cell_type": "code",
   "execution_count": 26,
   "metadata": {
    "collapsed": true
   },
   "outputs": [],
   "source": [
    "android_genres = freq_table(android_free_eng_clean, 1)\n",
    "android_genres2 = freq_table(android_free_eng_clean, 9)\n",
    "ios_genres = freq_table(ios_free_eng_clean, 11)"
   ]
  },
  {
   "cell_type": "code",
   "execution_count": 27,
   "metadata": {
    "collapsed": false
   },
   "outputs": [
    {
     "data": {
      "text/plain": [
       "[('Games', 1874),\n",
       " ('Entertainment', 254),\n",
       " ('Photo & Video', 160),\n",
       " ('Education', 118),\n",
       " ('Social Networking', 106),\n",
       " ('Shopping', 84),\n",
       " ('Utilities', 81),\n",
       " ('Sports', 69),\n",
       " ('Music', 66),\n",
       " ('Health & Fitness', 65),\n",
       " ('Productivity', 56),\n",
       " ('Lifestyle', 51),\n",
       " ('News', 43),\n",
       " ('Travel', 40),\n",
       " ('Finance', 36),\n",
       " ('Weather', 28),\n",
       " ('Food & Drink', 26),\n",
       " ('Reference', 18),\n",
       " ('Business', 17),\n",
       " ('Book', 14),\n",
       " ('Medical', 6),\n",
       " ('Navigation', 6),\n",
       " ('Catalogs', 4)]"
      ]
     },
     "execution_count": 27,
     "metadata": {},
     "output_type": "execute_result"
    }
   ],
   "source": [
    "# Let's see the result in ios\n",
    "sorted(ios_genres.items(), key=lambda kv: kv[1], reverse=True)"
   ]
  },
  {
   "cell_type": "code",
   "execution_count": 28,
   "metadata": {
    "collapsed": false
   },
   "outputs": [
    {
     "data": {
      "text/plain": [
       "[('FAMILY', 1676),\n",
       " ('GAME', 862),\n",
       " ('TOOLS', 750),\n",
       " ('BUSINESS', 407),\n",
       " ('LIFESTYLE', 346),\n",
       " ('PRODUCTIVITY', 345),\n",
       " ('FINANCE', 328),\n",
       " ('MEDICAL', 313),\n",
       " ('SPORTS', 301),\n",
       " ('PERSONALIZATION', 294),\n",
       " ('COMMUNICATION', 287),\n",
       " ('HEALTH_AND_FITNESS', 273),\n",
       " ('PHOTOGRAPHY', 261),\n",
       " ('NEWS_AND_MAGAZINES', 248),\n",
       " ('SOCIAL', 236),\n",
       " ('TRAVEL_AND_LOCAL', 207),\n",
       " ('SHOPPING', 199),\n",
       " ('BOOKS_AND_REFERENCE', 190),\n",
       " ('DATING', 165),\n",
       " ('VIDEO_PLAYERS', 159),\n",
       " ('MAPS_AND_NAVIGATION', 124),\n",
       " ('FOOD_AND_DRINK', 110),\n",
       " ('EDUCATION', 103),\n",
       " ('ENTERTAINMENT', 85),\n",
       " ('LIBRARIES_AND_DEMO', 83),\n",
       " ('AUTO_AND_VEHICLES', 82),\n",
       " ('HOUSE_AND_HOME', 73),\n",
       " ('WEATHER', 71),\n",
       " ('EVENTS', 63),\n",
       " ('PARENTING', 58),\n",
       " ('ART_AND_DESIGN', 57),\n",
       " ('COMICS', 55),\n",
       " ('BEAUTY', 53)]"
      ]
     },
     "execution_count": 28,
     "metadata": {},
     "output_type": "execute_result"
    }
   ],
   "source": [
    "# Let's see the result in android\n",
    "sorted(android_genres.items(), key=lambda kv: kv[1], reverse=True)"
   ]
  },
  {
   "cell_type": "code",
   "execution_count": 29,
   "metadata": {
    "collapsed": false
   },
   "outputs": [
    {
     "data": {
      "text/plain": [
       "[('Tools', 749),\n",
       " ('Entertainment', 538),\n",
       " ('Education', 474),\n",
       " ('Business', 407),\n",
       " ('Productivity', 345),\n",
       " ('Lifestyle', 345),\n",
       " ('Finance', 328),\n",
       " ('Medical', 313),\n",
       " ('Sports', 307),\n",
       " ('Personalization', 294),\n",
       " ('Communication', 287),\n",
       " ('Action', 275),\n",
       " ('Health & Fitness', 273),\n",
       " ('Photography', 261),\n",
       " ('News & Magazines', 248),\n",
       " ('Social', 236),\n",
       " ('Travel & Local', 206),\n",
       " ('Shopping', 199),\n",
       " ('Books & Reference', 190),\n",
       " ('Simulation', 181),\n",
       " ('Dating', 165),\n",
       " ('Arcade', 164),\n",
       " ('Video Players & Editors', 157),\n",
       " ('Casual', 156),\n",
       " ('Maps & Navigation', 124),\n",
       " ('Food & Drink', 110),\n",
       " ('Puzzle', 100),\n",
       " ('Racing', 88),\n",
       " ('Role Playing', 83),\n",
       " ('Libraries & Demo', 83),\n",
       " ('Auto & Vehicles', 82),\n",
       " ('Strategy', 81),\n",
       " ('House & Home', 73),\n",
       " ('Weather', 71),\n",
       " ('Events', 63),\n",
       " ('Adventure', 60),\n",
       " ('Comics', 54),\n",
       " ('Beauty', 53),\n",
       " ('Art & Design', 53),\n",
       " ('Parenting', 44),\n",
       " ('Card', 40),\n",
       " ('Casino', 38),\n",
       " ('Trivia', 37),\n",
       " ('Educational;Education', 35),\n",
       " ('Board', 34),\n",
       " ('Educational', 33),\n",
       " ('Education;Education', 30),\n",
       " ('Word', 23),\n",
       " ('Casual;Pretend Play', 21),\n",
       " ('Music', 18),\n",
       " ('Entertainment;Music & Video', 15),\n",
       " ('Racing;Action & Adventure', 15),\n",
       " ('Puzzle;Brain Games', 15),\n",
       " ('Casual;Brain Games', 12),\n",
       " ('Casual;Action & Adventure', 12),\n",
       " ('Arcade;Action & Adventure', 11),\n",
       " ('Action;Action & Adventure', 9),\n",
       " ('Educational;Pretend Play', 8),\n",
       " ('Simulation;Action & Adventure', 7),\n",
       " ('Board;Brain Games', 7),\n",
       " ('Entertainment;Brain Games', 7),\n",
       " ('Parenting;Education', 7),\n",
       " ('Parenting;Music & Video', 6),\n",
       " ('Art & Design;Creativity', 6),\n",
       " ('Educational;Brain Games', 6),\n",
       " ('Casual;Creativity', 6),\n",
       " ('Education;Pretend Play', 5),\n",
       " ('Education;Creativity', 4),\n",
       " ('Role Playing;Pretend Play', 4),\n",
       " ('Education;Brain Games', 3),\n",
       " ('Adventure;Action & Adventure', 3),\n",
       " ('Puzzle;Action & Adventure', 3),\n",
       " ('Education;Action & Adventure', 3),\n",
       " ('Role Playing;Action & Adventure', 3),\n",
       " ('Entertainment;Creativity', 3),\n",
       " ('Entertainment;Action & Adventure', 3),\n",
       " ('Education;Music & Video', 3),\n",
       " ('Educational;Creativity', 3),\n",
       " ('Educational;Action & Adventure', 3),\n",
       " ('Video Players & Editors;Music & Video', 2),\n",
       " ('Board;Action & Adventure', 2),\n",
       " ('Casual;Education', 2),\n",
       " ('Entertainment;Pretend Play', 2),\n",
       " ('Puzzle;Creativity', 2),\n",
       " ('Sports;Action & Adventure', 2),\n",
       " ('Music;Music & Video', 2),\n",
       " ('Simulation;Pretend Play', 2),\n",
       " ('Simulation;Education', 1),\n",
       " ('Parenting;Brain Games', 1),\n",
       " ('Art & Design;Action & Adventure', 1),\n",
       " ('Video Players & Editors;Creativity', 1),\n",
       " ('Puzzle;Education', 1),\n",
       " ('Strategy;Creativity', 1),\n",
       " ('Trivia;Education', 1),\n",
       " ('Tools;Education', 1),\n",
       " ('Entertainment;Education', 1),\n",
       " ('Books & Reference;Education', 1),\n",
       " ('Adventure;Education', 1),\n",
       " ('Comics;Creativity', 1),\n",
       " ('Lifestyle;Pretend Play', 1),\n",
       " ('Communication;Creativity', 1),\n",
       " ('Travel & Local;Action & Adventure', 1),\n",
       " ('Health & Fitness;Action & Adventure', 1),\n",
       " ('Arcade;Pretend Play', 1),\n",
       " ('Role Playing;Brain Games', 1),\n",
       " ('Art & Design;Pretend Play', 1),\n",
       " ('Racing;Pretend Play', 1),\n",
       " ('Strategy;Education', 1),\n",
       " ('Casual;Music & Video', 1),\n",
       " ('Health & Fitness;Education', 1),\n",
       " ('Strategy;Action & Adventure', 1),\n",
       " ('Lifestyle;Education', 1),\n",
       " ('Card;Action & Adventure', 1),\n",
       " ('Music & Audio;Music & Video', 1)]"
      ]
     },
     "execution_count": 29,
     "metadata": {},
     "output_type": "execute_result"
    }
   ],
   "source": [
    "# Let's see the result in android\n",
    "sorted(android_genres2.items(), key=lambda kv: kv[1], reverse=True)"
   ]
  },
  {
   "cell_type": "code",
   "execution_count": 30,
   "metadata": {
    "collapsed": true
   },
   "outputs": [],
   "source": [
    "# Using the function provided by lesson\n",
    "def display_table(dataset, index):\n",
    "    table = freq_table(dataset, index)\n",
    "    table_display = []\n",
    "    for key in table:\n",
    "        key_val_as_tuple = (table[key], key)\n",
    "        table_display.append(key_val_as_tuple)\n",
    "\n",
    "    table_sorted = sorted(table_display, reverse = True)\n",
    "    for entry in table_sorted:\n",
    "        print(entry[1], ':', entry[0])"
   ]
  },
  {
   "cell_type": "code",
   "execution_count": 31,
   "metadata": {
    "collapsed": false,
    "scrolled": true
   },
   "outputs": [
    {
     "name": "stdout",
     "output_type": "stream",
     "text": [
      "Games : 1874\n",
      "Entertainment : 254\n",
      "Photo & Video : 160\n",
      "Education : 118\n",
      "Social Networking : 106\n",
      "Shopping : 84\n",
      "Utilities : 81\n",
      "Sports : 69\n",
      "Music : 66\n",
      "Health & Fitness : 65\n",
      "Productivity : 56\n",
      "Lifestyle : 51\n",
      "News : 43\n",
      "Travel : 40\n",
      "Finance : 36\n",
      "Weather : 28\n",
      "Food & Drink : 26\n",
      "Reference : 18\n",
      "Business : 17\n",
      "Book : 14\n",
      "Navigation : 6\n",
      "Medical : 6\n",
      "Catalogs : 4\n"
     ]
    }
   ],
   "source": [
    "# Displaying prime_genre\n",
    "display_table(ios_free_eng_clean, 11)"
   ]
  },
  {
   "cell_type": "code",
   "execution_count": 32,
   "metadata": {
    "collapsed": false
   },
   "outputs": [
    {
     "name": "stdout",
     "output_type": "stream",
     "text": [
      "FAMILY : 1676\n",
      "GAME : 862\n",
      "TOOLS : 750\n",
      "BUSINESS : 407\n",
      "LIFESTYLE : 346\n",
      "PRODUCTIVITY : 345\n",
      "FINANCE : 328\n",
      "MEDICAL : 313\n",
      "SPORTS : 301\n",
      "PERSONALIZATION : 294\n",
      "COMMUNICATION : 287\n",
      "HEALTH_AND_FITNESS : 273\n",
      "PHOTOGRAPHY : 261\n",
      "NEWS_AND_MAGAZINES : 248\n",
      "SOCIAL : 236\n",
      "TRAVEL_AND_LOCAL : 207\n",
      "SHOPPING : 199\n",
      "BOOKS_AND_REFERENCE : 190\n",
      "DATING : 165\n",
      "VIDEO_PLAYERS : 159\n",
      "MAPS_AND_NAVIGATION : 124\n",
      "FOOD_AND_DRINK : 110\n",
      "EDUCATION : 103\n",
      "ENTERTAINMENT : 85\n",
      "LIBRARIES_AND_DEMO : 83\n",
      "AUTO_AND_VEHICLES : 82\n",
      "HOUSE_AND_HOME : 73\n",
      "WEATHER : 71\n",
      "EVENTS : 63\n",
      "PARENTING : 58\n",
      "ART_AND_DESIGN : 57\n",
      "COMICS : 55\n",
      "BEAUTY : 53\n"
     ]
    }
   ],
   "source": [
    "# Displaying Category\n",
    "display_table(android_free_eng_clean, 1)"
   ]
  },
  {
   "cell_type": "code",
   "execution_count": 33,
   "metadata": {
    "collapsed": false
   },
   "outputs": [
    {
     "name": "stdout",
     "output_type": "stream",
     "text": [
      "Tools : 749\n",
      "Entertainment : 538\n",
      "Education : 474\n",
      "Business : 407\n",
      "Productivity : 345\n",
      "Lifestyle : 345\n",
      "Finance : 328\n",
      "Medical : 313\n",
      "Sports : 307\n",
      "Personalization : 294\n",
      "Communication : 287\n",
      "Action : 275\n",
      "Health & Fitness : 273\n",
      "Photography : 261\n",
      "News & Magazines : 248\n",
      "Social : 236\n",
      "Travel & Local : 206\n",
      "Shopping : 199\n",
      "Books & Reference : 190\n",
      "Simulation : 181\n",
      "Dating : 165\n",
      "Arcade : 164\n",
      "Video Players & Editors : 157\n",
      "Casual : 156\n",
      "Maps & Navigation : 124\n",
      "Food & Drink : 110\n",
      "Puzzle : 100\n",
      "Racing : 88\n",
      "Role Playing : 83\n",
      "Libraries & Demo : 83\n",
      "Auto & Vehicles : 82\n",
      "Strategy : 81\n",
      "House & Home : 73\n",
      "Weather : 71\n",
      "Events : 63\n",
      "Adventure : 60\n",
      "Comics : 54\n",
      "Beauty : 53\n",
      "Art & Design : 53\n",
      "Parenting : 44\n",
      "Card : 40\n",
      "Casino : 38\n",
      "Trivia : 37\n",
      "Educational;Education : 35\n",
      "Board : 34\n",
      "Educational : 33\n",
      "Education;Education : 30\n",
      "Word : 23\n",
      "Casual;Pretend Play : 21\n",
      "Music : 18\n",
      "Racing;Action & Adventure : 15\n",
      "Puzzle;Brain Games : 15\n",
      "Entertainment;Music & Video : 15\n",
      "Casual;Brain Games : 12\n",
      "Casual;Action & Adventure : 12\n",
      "Arcade;Action & Adventure : 11\n",
      "Action;Action & Adventure : 9\n",
      "Educational;Pretend Play : 8\n",
      "Simulation;Action & Adventure : 7\n",
      "Parenting;Education : 7\n",
      "Entertainment;Brain Games : 7\n",
      "Board;Brain Games : 7\n",
      "Parenting;Music & Video : 6\n",
      "Educational;Brain Games : 6\n",
      "Casual;Creativity : 6\n",
      "Art & Design;Creativity : 6\n",
      "Education;Pretend Play : 5\n",
      "Role Playing;Pretend Play : 4\n",
      "Education;Creativity : 4\n",
      "Role Playing;Action & Adventure : 3\n",
      "Puzzle;Action & Adventure : 3\n",
      "Entertainment;Creativity : 3\n",
      "Entertainment;Action & Adventure : 3\n",
      "Educational;Creativity : 3\n",
      "Educational;Action & Adventure : 3\n",
      "Education;Music & Video : 3\n",
      "Education;Brain Games : 3\n",
      "Education;Action & Adventure : 3\n",
      "Adventure;Action & Adventure : 3\n",
      "Video Players & Editors;Music & Video : 2\n",
      "Sports;Action & Adventure : 2\n",
      "Simulation;Pretend Play : 2\n",
      "Puzzle;Creativity : 2\n",
      "Music;Music & Video : 2\n",
      "Entertainment;Pretend Play : 2\n",
      "Casual;Education : 2\n",
      "Board;Action & Adventure : 2\n",
      "Video Players & Editors;Creativity : 1\n",
      "Trivia;Education : 1\n",
      "Travel & Local;Action & Adventure : 1\n",
      "Tools;Education : 1\n",
      "Strategy;Education : 1\n",
      "Strategy;Creativity : 1\n",
      "Strategy;Action & Adventure : 1\n",
      "Simulation;Education : 1\n",
      "Role Playing;Brain Games : 1\n",
      "Racing;Pretend Play : 1\n",
      "Puzzle;Education : 1\n",
      "Parenting;Brain Games : 1\n",
      "Music & Audio;Music & Video : 1\n",
      "Lifestyle;Pretend Play : 1\n",
      "Lifestyle;Education : 1\n",
      "Health & Fitness;Education : 1\n",
      "Health & Fitness;Action & Adventure : 1\n",
      "Entertainment;Education : 1\n",
      "Communication;Creativity : 1\n",
      "Comics;Creativity : 1\n",
      "Casual;Music & Video : 1\n",
      "Card;Action & Adventure : 1\n",
      "Books & Reference;Education : 1\n",
      "Art & Design;Pretend Play : 1\n",
      "Art & Design;Action & Adventure : 1\n",
      "Arcade;Pretend Play : 1\n",
      "Adventure;Education : 1\n"
     ]
    }
   ],
   "source": [
    "# Displaying Genres\n",
    "display_table(android_free_eng_clean, 9)"
   ]
  },
  {
   "cell_type": "code",
   "execution_count": 34,
   "metadata": {
    "collapsed": false
   },
   "outputs": [
    {
     "name": "stdout",
     "output_type": "stream",
     "text": [
      "Travel 28243.8\n",
      "Weather 52279.892857142855\n",
      "Sports 23008.898550724636\n",
      "Finance 31467.944444444445\n",
      "Entertainment 14029.830708661417\n",
      "Music 57326.530303030304\n",
      "Games 22788.6696905016\n",
      "Productivity 21028.410714285714\n",
      "Book 39758.5\n",
      "Shopping 26919.690476190477\n",
      "Education 7003.983050847458\n",
      "Reference 74942.11111111111\n",
      "Medical 612.0\n",
      "Food & Drink 33333.92307692308\n",
      "News 21248.023255813954\n",
      "Utilities 18684.456790123455\n",
      "Lifestyle 16485.764705882353\n",
      "Health & Fitness 23298.015384615384\n",
      "Navigation 86090.33333333333\n",
      "Social Networking 71548.34905660378\n",
      "Photo & Video 28441.54375\n",
      "Catalogs 4004.0\n",
      "Business 7491.117647058823\n"
     ]
    }
   ],
   "source": [
    "# Most Popular Apps by Genre on the App Store\n",
    "for genre in ios_genres:\n",
    "    total = 0\n",
    "    len_genre = 0\n",
    "    for row in ios_free_eng_clean:\n",
    "        genre_app = row[-5]\n",
    "        if genre_app == genre:\n",
    "            user_rating = float(row[5])\n",
    "            total += user_rating\n",
    "            len_genre += 1\n",
    "        \n",
    "    average = total / len_genre\n",
    "    print(genre, average)"
   ]
  },
  {
   "cell_type": "markdown",
   "metadata": {},
   "source": [
    "Navigation and Social Networking are the most popular"
   ]
  },
  {
   "cell_type": "code",
   "execution_count": 35,
   "metadata": {
    "collapsed": false
   },
   "outputs": [
    {
     "name": "stdout",
     "output_type": "stream",
     "text": [
      "Waze - GPS Navigation, Maps & Real-time Traffic : 345046\n",
      "Google Maps - Navigation & Transit : 154911\n",
      "Geocaching® : 12811\n",
      "CoPilot GPS – Car Navigation & Offline Maps : 3582\n",
      "ImmobilienScout24: Real Estate Search in Germany : 187\n",
      "Railway Route Search : 5\n"
     ]
    }
   ],
   "source": [
    "for app in ios_free_eng_clean:\n",
    "    if app[-5] == 'Navigation':\n",
    "        print(app[1], ':', app[5]) # print name and number of ratings"
   ]
  },
  {
   "cell_type": "code",
   "execution_count": 36,
   "metadata": {
    "collapsed": false
   },
   "outputs": [
    {
     "name": "stdout",
     "output_type": "stream",
     "text": [
      "1,000,000+ : 1394\n",
      "100,000+ : 1024\n",
      "10,000,000+ : 935\n",
      "10,000+ : 904\n",
      "1,000+ : 744\n",
      "100+ : 613\n",
      "5,000,000+ : 605\n",
      "500,000+ : 493\n",
      "50,000+ : 423\n",
      "5,000+ : 400\n",
      "10+ : 314\n",
      "500+ : 288\n",
      "50,000,000+ : 204\n",
      "100,000,000+ : 189\n",
      "50+ : 170\n",
      "5+ : 70\n",
      "1+ : 45\n",
      "500,000,000+ : 24\n",
      "1,000,000,000+ : 20\n",
      "0+ : 4\n",
      "0 : 1\n"
     ]
    }
   ],
   "source": [
    "# Let's see over to Android with an Install columns that indicates the popularity\n",
    "display_table(android_free_eng_clean, 5) # install column"
   ]
  },
  {
   "cell_type": "code",
   "execution_count": 37,
   "metadata": {
    "collapsed": false
   },
   "outputs": [
    {
     "name": "stdout",
     "output_type": "stream",
     "text": [
      "PERSONALIZATION 5201482.6122448975\n",
      "GAME 15588015.603248259\n",
      "COMMUNICATION 38456119.167247385\n",
      "BEAUTY 513151.88679245283\n",
      "ENTERTAINMENT 11640705.88235294\n",
      "PHOTOGRAPHY 17840110.40229885\n",
      "FINANCE 1387692.475609756\n",
      "MAPS_AND_NAVIGATION 4056941.7741935486\n",
      "TRAVEL_AND_LOCAL 13984077.710144928\n",
      "SOCIAL 23253652.127118643\n",
      "MEDICAL 120550.61980830671\n",
      "AUTO_AND_VEHICLES 647317.8170731707\n",
      "PARENTING 542603.6206896552\n",
      "HOUSE_AND_HOME 1331540.5616438356\n",
      "SHOPPING 7036877.311557789\n",
      "HEALTH_AND_FITNESS 4188821.9853479853\n",
      "BOOKS_AND_REFERENCE 8767811.894736841\n",
      "TOOLS 10801391.298666667\n",
      "WEATHER 5074486.197183099\n",
      "VIDEO_PLAYERS 24727872.452830188\n",
      "DATING 854028.8303030303\n",
      "FOOD_AND_DRINK 1924897.7363636363\n",
      "COMICS 817657.2727272727\n",
      "LIBRARIES_AND_DEMO 638503.734939759\n",
      "NEWS_AND_MAGAZINES 9549178.467741935\n",
      "ART_AND_DESIGN 1986335.0877192982\n",
      "LIFESTYLE 1437816.2687861272\n",
      "BUSINESS 1712290.1474201474\n",
      "EDUCATION 1833495.145631068\n",
      "EVENTS 253542.22222222222\n",
      "PRODUCTIVITY 16787331.344927534\n",
      "SPORTS 3638640.1428571427\n",
      "FAMILY 3695641.8198090694\n"
     ]
    }
   ],
   "source": [
    "for category in android_genres:\n",
    "    total = 0\n",
    "    len_category = 0\n",
    "    for row in android_free_eng_clean:\n",
    "        category_app = row[1]\n",
    "        if category_app == category:\n",
    "            number_install = float(row[5].replace('+', '').replace(',', ''))\n",
    "            total += number_install\n",
    "            len_category += 1\n",
    "    \n",
    "    average = total / len_category\n",
    "    print(category, average)"
   ]
  },
  {
   "cell_type": "code",
   "execution_count": 38,
   "metadata": {
    "collapsed": false
   },
   "outputs": [
    {
     "name": "stdout",
     "output_type": "stream",
     "text": [
      "WhatsApp Messenger : 1,000,000,000+\n",
      "imo beta free calls and text : 100,000,000+\n",
      "Android Messages : 100,000,000+\n",
      "Google Duo - High Quality Video Calls : 500,000,000+\n",
      "Messenger – Text and Video Chat for Free : 1,000,000,000+\n",
      "imo free video calls and chat : 500,000,000+\n",
      "Skype - free IM & video calls : 1,000,000,000+\n",
      "Who : 100,000,000+\n",
      "GO SMS Pro - Messenger, Free Themes, Emoji : 100,000,000+\n",
      "LINE: Free Calls & Messages : 500,000,000+\n",
      "Google Chrome: Fast & Secure : 1,000,000,000+\n",
      "Firefox Browser fast & private : 100,000,000+\n",
      "UC Browser - Fast Download Private & Secure : 500,000,000+\n",
      "Gmail : 1,000,000,000+\n",
      "Hangouts : 1,000,000,000+\n",
      "Messenger Lite: Free Calls & Messages : 100,000,000+\n",
      "Kik : 100,000,000+\n",
      "KakaoTalk: Free Calls & Text : 100,000,000+\n",
      "Opera Mini - fast web browser : 100,000,000+\n",
      "Opera Browser: Fast and Secure : 100,000,000+\n",
      "Telegram : 100,000,000+\n",
      "Truecaller: Caller ID, SMS spam blocking & Dialer : 100,000,000+\n",
      "UC Browser Mini -Tiny Fast Private & Secure : 100,000,000+\n",
      "Viber Messenger : 500,000,000+\n",
      "WeChat : 100,000,000+\n",
      "Yahoo Mail – Stay Organized : 100,000,000+\n",
      "BBM - Free Calls & Messages : 100,000,000+\n"
     ]
    }
   ],
   "source": [
    "for app in android_free_eng_clean:\n",
    "    if app[1] == 'COMMUNICATION' and (app[5] == '1,000,000,000+'\n",
    "                                      or app[5] == '500,000,000+'\n",
    "                                      or app[5] == '100,000,000+'):\n",
    "        print(app[0], ':', app[5])"
   ]
  },
  {
   "cell_type": "code",
   "execution_count": null,
   "metadata": {
    "collapsed": true
   },
   "outputs": [],
   "source": []
  }
 ],
 "metadata": {
  "kernelspec": {
   "display_name": "Python 3",
   "language": "python",
   "name": "python3"
  },
  "language_info": {
   "codemirror_mode": {
    "name": "ipython",
    "version": 3
   },
   "file_extension": ".py",
   "mimetype": "text/x-python",
   "name": "python",
   "nbconvert_exporter": "python",
   "pygments_lexer": "ipython3",
   "version": "3.4.3"
  }
 },
 "nbformat": 4,
 "nbformat_minor": 2
}
